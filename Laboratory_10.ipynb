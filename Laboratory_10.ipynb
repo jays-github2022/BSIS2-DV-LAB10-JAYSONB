{
  "nbformat": 4,
  "nbformat_minor": 0,
  "metadata": {
    "colab": {
      "provenance": [],
      "authorship_tag": "ABX9TyOIugZU3Wj6ebROUfwsfi2N",
      "include_colab_link": true
    },
    "kernelspec": {
      "name": "python3",
      "display_name": "Python 3"
    },
    "language_info": {
      "name": "python"
    }
  },
  "cells": [
    {
      "cell_type": "markdown",
      "metadata": {
        "id": "view-in-github",
        "colab_type": "text"
      },
      "source": [
        "<a href=\"https://colab.research.google.com/github/jays-github2022/BSIS2-DV-LAB10-JAYSONB/blob/main/Laboratory_10.ipynb\" target=\"_parent\"><img src=\"https://colab.research.google.com/assets/colab-badge.svg\" alt=\"Open In Colab\"/></a>"
      ]
    },
    {
      "cell_type": "code",
      "execution_count": 1,
      "metadata": {
        "colab": {
          "base_uri": "https://localhost:8080/"
        },
        "id": "bxJuEySu5uhx",
        "outputId": "9f3ac65d-b2d6-4a74-b614-b43e3ec2ce42"
      },
      "outputs": [
        {
          "output_type": "stream",
          "name": "stdout",
          "text": [
            "()\n"
          ]
        }
      ],
      "source": [
        "emptyT=()\n",
        "print(emptyT)"
      ]
    },
    {
      "cell_type": "code",
      "source": [
        "z=(10,11,12,13,)\n",
        "print(z)"
      ],
      "metadata": {
        "colab": {
          "base_uri": "https://localhost:8080/"
        },
        "id": "6wVp2y4R6FhR",
        "outputId": "7bbe6247-41c3-40eb-fa60-13df6cabdc3b"
      },
      "execution_count": 2,
      "outputs": [
        {
          "output_type": "stream",
          "name": "stdout",
          "text": [
            "(10, 11, 12, 13)\n"
          ]
        }
      ]
    },
    {
      "cell_type": "code",
      "source": [
        "tup1=('Jayson' )\n",
        "tup2=('Jayson') \n",
        "notTuple=('Jayson')\n",
        "print(type(notTuple))"
      ],
      "metadata": {
        "colab": {
          "base_uri": "https://localhost:8080/"
        },
        "id": "xqMsph7L6MOJ",
        "outputId": "bd9bbbcd-f6f4-479f-ef28-ff8a2eb4e2b5"
      },
      "execution_count": 5,
      "outputs": [
        {
          "output_type": "stream",
          "name": "stdout",
          "text": [
            "<class 'str'>\n"
          ]
        }
      ]
    },
    {
      "cell_type": "code",
      "source": [
        "z=(10,11,12, 13)\n",
        "print(z[0])"
      ],
      "metadata": {
        "colab": {
          "base_uri": "https://localhost:8080/"
        },
        "id": "hBs9iyvy6mih",
        "outputId": "6f4909eb-bcdf-4ccd-abfb-9d84b74aa8ff"
      },
      "execution_count": 10,
      "outputs": [
        {
          "output_type": "stream",
          "name": "stdout",
          "text": [
            "10\n"
          ]
        }
      ]
    },
    {
      "cell_type": "code",
      "source": [
        "z=(10,11,12,13)\n",
        "print(z[-1])"
      ],
      "metadata": {
        "colab": {
          "base_uri": "https://localhost:8080/"
        },
        "id": "x9LGlmns6vzI",
        "outputId": "f21c76a9-e984-4b54-b6c0-90d1615f162e"
      },
      "execution_count": 11,
      "outputs": [
        {
          "output_type": "stream",
          "name": "stdout",
          "text": [
            "13\n"
          ]
        }
      ]
    },
    {
      "cell_type": "code",
      "source": [
        "z=(10,11,12,13)\n",
        "print(z[0:2])"
      ],
      "metadata": {
        "colab": {
          "base_uri": "https://localhost:8080/"
        },
        "id": "39zNgheF67h1",
        "outputId": "6dcecfc2-af66-4ea9-a445-e48ca7d2371a"
      },
      "execution_count": 12,
      "outputs": [
        {
          "output_type": "stream",
          "name": "stdout",
          "text": [
            "(10, 11)\n"
          ]
        }
      ]
    },
    {
      "cell_type": "code",
      "source": [
        "z=(10,11,12,13)\n",
        "print(z[-4:-1])"
      ],
      "metadata": {
        "colab": {
          "base_uri": "https://localhost:8080/"
        },
        "id": "Jp09_rgj7PhB",
        "outputId": "6b792eab-25d5-4307-9f26-3ac8587b3321"
      },
      "execution_count": 14,
      "outputs": [
        {
          "output_type": "stream",
          "name": "stdout",
          "text": [
            "(10, 11, 12)\n"
          ]
        }
      ]
    },
    {
      "cell_type": "code",
      "source": [
        "a,b,c,d=(10, 11,12,13)\n",
        "print(a)\n",
        "print(b)\n",
        "print(c)\n",
        "print(d)"
      ],
      "metadata": {
        "colab": {
          "base_uri": "https://localhost:8080/"
        },
        "id": "ThdMc8r97bLb",
        "outputId": "ea329b38-4870-4cfb-b3bd-b73b13a28fad"
      },
      "execution_count": 16,
      "outputs": [
        {
          "output_type": "stream",
          "name": "stdout",
          "text": [
            "10\n",
            "11\n",
            "12\n",
            "13\n"
          ]
        }
      ]
    },
    {
      "cell_type": "code",
      "source": [
        "\n",
        "characs=('Jisoo','Rose','Jennie','Lisa')\n",
        "for index, characs in enumerate(characs):\n",
        "   print(index,characs)"
      ],
      "metadata": {
        "colab": {
          "base_uri": "https://localhost:8080/"
        },
        "id": "4qnhhVXt7j4y",
        "outputId": "3abcc964-46cf-4b62-c405-6f1a925401f2"
      },
      "execution_count": 18,
      "outputs": [
        {
          "output_type": "stream",
          "name": "stdout",
          "text": [
            "0 Jisoo\n",
            "1 Rose\n",
            "2 Jennie\n",
            "3 Lisa\n"
          ]
        }
      ]
    }
  ]
}